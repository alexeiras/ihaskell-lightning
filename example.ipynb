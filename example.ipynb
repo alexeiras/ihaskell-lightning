{
 "cells": [
  {
   "cell_type": "markdown",
   "metadata": {},
   "source": [
    "IHaskell-Lightning\n",
    "=======================\n",
    "\n",
    "Basic integration of [lightning-haskell](http://hackage.haskell.org/package/lightning-haskell) into [IHaskell](http://hackage.haskell.org/package/ihaskell).\n",
    "\n",
    "A convenience type and its `IHaskellDisplay` instance is provided to run and display [Lightning](http://lightning-viz.org/) visualizations in just one line:\n"
   ]
  },
  {
   "cell_type": "code",
   "execution_count": 1,
   "metadata": {
    "collapsed": false
   },
   "outputs": [
    {
     "data": {
      "text/html": [
       "<style>/* Styles used for the Hoogle display in the pager */\n",
       ".hoogle-doc {\n",
       "display: block;\n",
       "padding-bottom: 1.3em;\n",
       "padding-left: 0.4em;\n",
       "}\n",
       ".hoogle-code {\n",
       "display: block;\n",
       "font-family: monospace;\n",
       "white-space: pre;\n",
       "}\n",
       ".hoogle-text {\n",
       "display: block;\n",
       "}\n",
       ".hoogle-name {\n",
       "color: green;\n",
       "font-weight: bold;\n",
       "}\n",
       ".hoogle-head {\n",
       "font-weight: bold;\n",
       "}\n",
       ".hoogle-sub {\n",
       "display: block;\n",
       "margin-left: 0.4em;\n",
       "}\n",
       ".hoogle-package {\n",
       "font-weight: bold;\n",
       "font-style: italic;\n",
       "}\n",
       ".hoogle-module {\n",
       "font-weight: bold;\n",
       "}\n",
       ".hoogle-class {\n",
       "font-weight: bold;\n",
       "}\n",
       ".get-type {\n",
       "color: green;\n",
       "font-weight: bold;\n",
       "font-family: monospace;\n",
       "display: block;\n",
       "white-space: pre-wrap;\n",
       "}\n",
       ".show-type {\n",
       "color: green;\n",
       "font-weight: bold;\n",
       "font-family: monospace;\n",
       "margin-left: 1em;\n",
       "}\n",
       ".mono {\n",
       "font-family: monospace;\n",
       "display: block;\n",
       "}\n",
       ".err-msg {\n",
       "color: red;\n",
       "font-style: italic;\n",
       "font-family: monospace;\n",
       "white-space: pre;\n",
       "display: block;\n",
       "}\n",
       "#unshowable {\n",
       "color: red;\n",
       "font-weight: bold;\n",
       "}\n",
       ".err-msg.in.collapse {\n",
       "padding-top: 0.7em;\n",
       "}\n",
       ".highlight-code {\n",
       "white-space: pre;\n",
       "font-family: monospace;\n",
       "}\n",
       ".suggestion-warning { \n",
       "font-weight: bold;\n",
       "color: rgb(200, 130, 0);\n",
       "}\n",
       ".suggestion-error { \n",
       "font-weight: bold;\n",
       "color: red;\n",
       "}\n",
       ".suggestion-name {\n",
       "font-weight: bold;\n",
       "}\n",
       "</style><!DOCTYPE html><html lang=\"en\"><head><link rel=\"shortcut icon\" href=\"/images/favicon.ico\" type=\"image/x-icon\"><meta name=\"viewport\" content=\"width=device-width, initial-scale=1, maximum-scale=1\"><meta http-equiv=\"X-UA-Compatible\" content=\"IE=10; IE=9; IE=8; IE=7; IE=EDGE\"><meta charset=\"UTF-8\"><meta content=\"http://localhost:3000/visualizations/1adf01cd-7958-47d6-87c2-324f1a2e6ca4/screenshot/?width=800&amp;height=600\" property=\"og:image\"><meta content=\"http://localhost:3000/visualizations/1adf01cd-7958-47d6-87c2-324f1a2e6ca4/screenshot/?width=800&amp;height=600\" property=\"og:image:url\"><link href=\"//fonts.googleapis.com/css?family=Open+Sans:400,700\" rel=\"stylesheet\" type=\"text/css\"><link rel=\"stylesheet\" href=\"http://localhost:3000/css/app.css\"></head></html><body><div id=\"lightning-body\"><div class=\"container content wrap push\"><div class=\"feed-container\"><div data-model=\"visualization\" data-model-id=\"1adf01cd-7958-47d6-87c2-324f1a2e6ca4\" class=\"feed-item-container\"><div data-type=\"lightning-scatter\" data-data=\"{&quot;points&quot;:[[1,4],[2,1],[3,2]],&quot;tooltips&quot;:true,&quot;zoom&quot;:true,&quot;brush&quot;:true}\" data-images=\"[]\" data-options=\"{}\" id=\"viz-1adf01cd-7958-47d6-87c2-324f1a2e6ca4\" data-initialized=\"false\" class=\"feed-item\"></div><div class=\"description-container\"><div class=\"description\"></div></div></div></div></div></div><script>window.lightning = window.lightning || {};\n",
       "window.lightning.baseURL = \"/\";\n",
       "</script><script src=\"//ajax.googleapis.com/ajax/libs/jquery/1.11.0/jquery.min.js\"></script><script src=\"http://localhost:3000/js/basic.js\"></script><script src=\"http://localhost:3000/js/dynamic/viz/?visualizations[]=scatter\"></script><script src=\"http://localhost:3000/js/public.js\"></script></body>\n"
      ],
      "text/plain": [
       "<!DOCTYPE html><html lang=\"en\"><head><link rel=\"shortcut icon\" href=\"/images/favicon.ico\" type=\"image/x-icon\"><meta name=\"viewport\" content=\"width=device-width, initial-scale=1, maximum-scale=1\"><meta http-equiv=\"X-UA-Compatible\" content=\"IE=10; IE=9; IE=8; IE=7; IE=EDGE\"><meta charset=\"UTF-8\"><meta content=\"http://localhost:3000/visualizations/1adf01cd-7958-47d6-87c2-324f1a2e6ca4/screenshot/?width=800&amp;height=600\" property=\"og:image\"><meta content=\"http://localhost:3000/visualizations/1adf01cd-7958-47d6-87c2-324f1a2e6ca4/screenshot/?width=800&amp;height=600\" property=\"og:image:url\"><link href=\"//fonts.googleapis.com/css?family=Open+Sans:400,700\" rel=\"stylesheet\" type=\"text/css\"><link rel=\"stylesheet\" href=\"http://localhost:3000/css/app.css\"></head></html><body><div id=\"lightning-body\"><div class=\"container content wrap push\"><div class=\"feed-container\"><div data-model=\"visualization\" data-model-id=\"1adf01cd-7958-47d6-87c2-324f1a2e6ca4\" class=\"feed-item-container\"><div data-type=\"lightning-scatter\" data-data=\"{&quot;points&quot;:[[1,4],[2,1],[3,2]],&quot;tooltips&quot;:true,&quot;zoom&quot;:true,&quot;brush&quot;:true}\" data-images=\"[]\" data-options=\"{}\" id=\"viz-1adf01cd-7958-47d6-87c2-324f1a2e6ca4\" data-initialized=\"false\" class=\"feed-item\"></div><div class=\"description-container\"><div class=\"description\"></div></div></div></div></div></div><script>window.lightning = window.lightning || {};\n",
       "window.lightning.baseURL = \"/\";\n",
       "</script><script src=\"//ajax.googleapis.com/ajax/libs/jquery/1.11.0/jquery.min.js\"></script><script src=\"http://localhost:3000/js/basic.js\"></script><script src=\"http://localhost:3000/js/dynamic/viz/?visualizations[]=scatter\"></script><script src=\"http://localhost:3000/js/public.js\"></script></body>"
      ]
     },
     "metadata": {},
     "output_type": "display_data"
    }
   ],
   "source": [
    "Lgn defaultLightningOptions $ scatterPlot def { spX = [1,2,3], spY = [4,1,2] }"
   ]
  },
  {
   "cell_type": "code",
   "execution_count": null,
   "metadata": {
    "collapsed": true
   },
   "outputs": [],
   "source": []
  }
 ],
 "metadata": {
  "kernelspec": {
   "display_name": "Haskell",
   "language": "haskell",
   "name": "haskell"
  },
  "language_info": {
   "codemirror_mode": "ihaskell",
   "file_extension": ".hs",
   "name": "haskell",
   "version": "7.10.3"
  }
 },
 "nbformat": 4,
 "nbformat_minor": 2
}
